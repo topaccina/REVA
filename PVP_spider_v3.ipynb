{
 "cells": [
  {
   "cell_type": "code",
   "execution_count": null,
   "metadata": {},
   "outputs": [],
   "source": [
    "from bs4 import BeautifulSoup\n",
    "import pandas as pd\n",
    "import requests\n",
    "import re\n",
    "import warnings\n",
    "import datetime as dt # import datetime \n",
    "from datetime import datetime\n",
    "import time\n",
    "\n",
    "warnings.filterwarnings('ignore')"
   ]
  },
  {
   "cell_type": "code",
   "execution_count": null,
   "metadata": {},
   "outputs": [],
   "source": [
    "#list for retrieved data storage\n",
    "link_list=list()\n",
    "cat_list=list()\n",
    "addr_list=list()\n",
    "rge_list=list()\n",
    "lotto_list=list()\n",
    "base_list=list()\n",
    "data_list=list()"
   ]
  },
  {
   "cell_type": "code",
   "execution_count": null,
   "metadata": {},
   "outputs": [],
   "source": [
    "#script customization\n",
    "tr_code='to_customize'\n",
    "tipo_bene='to_customize'\n",
    "cat='to_customize'"
   ]
  },
  {
   "cell_type": "code",
   "execution_count": null,
   "metadata": {},
   "outputs": [],
   "source": [
    "#build PVP link\n",
    "def pvp_link_builder(tipo_bene,cat,tr_code,pagina):\n",
    "    pvp_link_root='LINK ROOT'\n",
    "    tipo_bene='tipo_bene={tipo_bene}'.format(tipo_bene=tipo_bene)\n",
    "    categoria='categoria={cat}'.format(cat=cat)\n",
    "    tribunale='tribunale={tr_code}'.format(tr_code=tr_code)\n",
    "    ordinamento='ordinamento=data_vendita_decre'\n",
    "    pagina='frame4_item={pagina}'.format(pagina=pagina)\n",
    "    viz='&view=tab&elementiPerPagina=50'\n",
    "    #overall param search string\n",
    "    param_search='&'.join([tipo_bene,categoria,tribunale,ordinamento,pagina,viz])\n",
    "    #final link\n",
    "    pvp_link=''.join([pvp_link_root,param_search])\n",
    "    return pvp_link"
   ]
  },
  {
   "cell_type": "code",
   "execution_count": null,
   "metadata": {},
   "outputs": [],
   "source": [
    "def pvp_link_get_content(pvp_link):\n",
    "    #retrieve page content\n",
    "    try:\n",
    "        page=requests.get(pvp_link)\n",
    "        print('http request response: '+str(page.status_code))\n",
    "        print('overall execution time [seconds]: '+ str(page.elapsed.total_seconds()))\n",
    "        return page\n",
    "    except requests.exceptions.RequestException as e: \n",
    "        print('connection Error')\n",
    "        raise SystemExit(e)"
   ]
  },
  {
   "cell_type": "code",
   "execution_count": null,
   "metadata": {},
   "outputs": [],
   "source": [
    "def pvp_link_analyze(page):\n",
    "    #list for retrieved data storage (local)\n",
    "    link_list=list()\n",
    "    cat_list=list()\n",
    "    addr_list=list()\n",
    "    rge_list=list()\n",
    "    lotto_list=list()\n",
    "    base_list=list()\n",
    "    data_list=list()\n",
    "    soup=BeautifulSoup(page.content,'html.parser')\n",
    "    imm_list=soup.find_all('div',class_='col-md-6 col-lg-4 col-sm-6 col-xs-12 tile-dettaglio')\n",
    "    for rge in imm_list:\n",
    "        if rge.find('span',class_='font-black inline') is not None:\n",
    "            link_list.append(rge.find('a')['href'])\n",
    "            cat_list.append(rge.find('span',class_='categoria').get_text(strip=True))\n",
    "            addr_list.append(rge.find('div',class_='anagrafica-risultato').get_text(strip=True))\n",
    "            base_list.append(rge.find('span',class_='font-blue font18').get_text(strip=True))\n",
    "            rge_list.append(rge.find('span',class_='font-black inline').get_text(strip=True))\n",
    "            data_list.append(rge.find('span',class_='font-green inline').get_text(strip=True))\n",
    "            lotto_list.append(rge.find('span',class_='black').get_text(strip=True))\n",
    "\n",
    "    allField_list=[link_list,cat_list,addr_list,rge_list,lotto_list,base_list,data_list]\n",
    "    return allField_list"
   ]
  },
  {
   "cell_type": "code",
   "execution_count": null,
   "metadata": {},
   "outputs": [],
   "source": [
    "#run condition setup\n",
    "time_step=dt.timedelta(days=60)\n",
    "date_ref=datetime.now()-time_step\n",
    "###########################################\n",
    "#start from 1st page for the 1st program run\n",
    "if len(data_list)==0:\n",
    "    pagina=1\n",
    "    pvp_link=pvp_link_builder(tipo_bene,cat,tr_code,pagina)\n",
    "    print(\"start\")\n",
    "    print(pvp_link)\n",
    "    page=pvp_link_get_content(pvp_link)\n",
    "    allField_list=pvp_link_analyze(page)\n",
    "    #append to global list\n",
    "    link_list.extend(allField_list[0])\n",
    "    cat_list.extend(allField_list[1])\n",
    "    addr_list.extend(allField_list[2])\n",
    "    rge_list.extend(allField_list[3])\n",
    "    lotto_list.extend(allField_list[4])\n",
    "    base_list.extend(allField_list[5])\n",
    "    data_list.extend(allField_list[6])\n",
    "    \n",
    "    \n",
    "\n",
    "if len(data_list)>0:\n",
    "    date_check = datetime.strptime(data_list[-1], '%d/%m/%Y %H:%M')\n",
    "    gap=date_check-date_ref\n",
    "    print(gap)\n",
    "    while gap>dt.timedelta(days=0):\n",
    "        pagina+=1\n",
    "        pvp_link=pvp_link_builder(tipo_bene,cat,tr_code,pagina)\n",
    "        print(\"loop\")\n",
    "        print(\"link:\\n\"+pvp_link+\"\\npag:\\n\"+str(pagina))\n",
    "        time.sleep(30)\n",
    "        page=pvp_link_get_content(pvp_link)\n",
    "        allField_list=pvp_link_analyze(page)\n",
    "        #append to global list\n",
    "        link_list.extend(allField_list[0])\n",
    "        cat_list.extend(allField_list[1])\n",
    "        addr_list.extend(allField_list[2])\n",
    "        rge_list.extend(allField_list[3])\n",
    "        lotto_list.extend(allField_list[4])\n",
    "        base_list.extend(allField_list[5])\n",
    "        data_list.extend(allField_list[6])\n",
    "        \n",
    "        date_check = datetime.strptime(data_list[-1], '%d/%m/%Y %H:%M')\n",
    "        gap=date_check-date_ref\n",
    "        print(gap)\n",
    "\n"
   ]
  },
  {
   "cell_type": "code",
   "execution_count": null,
   "metadata": {},
   "outputs": [],
   "source": [
    "#data preprocessing\n",
    "full_link_list=['http://pvp.giustizia.it'+sub for sub in link_list]  \n",
    "cat_list=[x.upper() for x in cat_list]\n",
    "addr_list=[x.upper() for x in addr_list]\n",
    "base_list=[x.upper() for x in base_list]\n",
    "base_list=[re.sub(r'[\\n \\r \\s]|LOTTO|NR\\.|\\€','',base) for base in base_list]\n",
    "rge_list=[x.upper() for x in rge_list]\n",
    "data_list=[x.upper() for x in data_list]\n",
    "lotto_list=[x.upper() for x in lotto_list]\n",
    "lotto_list=[re.sub(r'[\\n \\r \\s]|LOTTO|NR\\.','',lotto) for lotto in lotto_list]"
   ]
  },
  {
   "cell_type": "code",
   "execution_count": null,
   "metadata": {},
   "outputs": [],
   "source": [
    "#pvp_info_write()\n",
    "info_dict={'RGE':rge_list,'LOTTO':lotto_list,'INDIRIZZO':addr_list,\\\n",
    "'CATEGORIA':cat_list,'DATA':data_list,\\\n",
    "'BASE_ASTA':base_list,'LINK':full_link_list}\n",
    "\n",
    "df=pd.DataFrame(data=info_dict)\n",
    "outFile=('PVP_MILANO_{0}_{1}_{2}.csv').format(dt.datetime.today().year,dt.datetime.today().month,dt.datetime.today().day)\n",
    "df.to_csv(outFile,index=False)"
   ]
  },
  {
   "cell_type": "code",
   "execution_count": null,
   "metadata": {},
   "outputs": [],
   "source": []
  }
 ],
 "metadata": {
  "kernelspec": {
   "display_name": "Python 3",
   "language": "python",
   "name": "python3"
  },
  "language_info": {
   "codemirror_mode": {
    "name": "ipython",
    "version": 3
   },
   "file_extension": ".py",
   "mimetype": "text/x-python",
   "name": "python",
   "nbconvert_exporter": "python",
   "pygments_lexer": "ipython3",
   "version": "3.8.3"
  }
 },
 "nbformat": 4,
 "nbformat_minor": 4
}
